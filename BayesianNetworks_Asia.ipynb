{
  "nbformat": 4,
  "nbformat_minor": 0,
  "metadata": {
    "colab": {
      "name": "BayesianNetworks_Asia.ipynb",
      "version": "0.3.2",
      "provenance": [],
      "include_colab_link": true
    },
    "kernelspec": {
      "display_name": "Python 3",
      "language": "python",
      "name": "python3"
    }
  },
  "cells": [
    {
      "cell_type": "markdown",
      "metadata": {
        "id": "view-in-github",
        "colab_type": "text"
      },
      "source": [
        "<a href=\"https://colab.research.google.com/github/AMRUTA-BANDHU-CHAUDHURY/AI-ML-DL-REPO/blob/master/BayesianNetworks_Asia.ipynb\" target=\"_parent\"><img src=\"https://colab.research.google.com/assets/colab-badge.svg\" alt=\"Open In Colab\"/></a>"
      ]
    },
    {
      "metadata": {
        "id": "FRV-JMdJclyu",
        "colab_type": "text"
      },
      "cell_type": "markdown",
      "source": [
        "### Bayesian Networks Code Demo - Asia Usecase \n",
        "\n",
        "#### A Bayesian network is a directed acyclic graphical model whose nodes represent a set of random variables and their conditional dependencies via a directed acyclic graph (DAG). We shall look at a Bayesian network called the 'asia network' develped by Lauritzen and Speigelhalter(1988) which represent the probability of developing a lung cancer or bronchitis. Pgmpy is the python library used for demonstration"
      ]
    },
    {
      "metadata": {
        "id": "uCVTIbw-cly1",
        "colab_type": "code",
        "colab": {}
      },
      "cell_type": "code",
      "source": [
        "## setting the current directory\n",
        "import os\n",
        "path = \"C:/Users/usha/Desktop/BangPypers/asia\"\n",
        "os.chdir(path)\n"
      ],
      "execution_count": 0,
      "outputs": []
    },
    {
      "metadata": {
        "id": "IrmLrMUYclzE",
        "colab_type": "text"
      },
      "cell_type": "markdown",
      "source": [
        "#### BIFReader is a pgmpy package used for reading network file in bif format\n",
        "\n"
      ]
    },
    {
      "metadata": {
        "id": "fNrxsscaclzH",
        "colab_type": "code",
        "colab": {}
      },
      "cell_type": "code",
      "source": [
        "## reading the file 'asia.bif' using BIFReader\n",
        "from pgmpy.readwrite import BIFReader\n",
        "reader = BIFReader('asia.bif')\n",
        "asia_model = reader.get_model()"
      ],
      "execution_count": 0,
      "outputs": []
    },
    {
      "metadata": {
        "id": "qOBKwMyJclzS",
        "colab_type": "text"
      },
      "cell_type": "markdown",
      "source": [
        "#### nodes of the graph are retrieved using the nodes() method"
      ]
    },
    {
      "metadata": {
        "id": "YTcBImpeclzW",
        "colab_type": "code",
        "outputId": "90781e83-7ad2-44a4-eaaf-c1c834479b0a",
        "colab": {}
      },
      "cell_type": "code",
      "source": [
        "## nodes of the asia model\n",
        "asia_model.nodes()\n"
      ],
      "execution_count": 0,
      "outputs": [
        {
          "output_type": "execute_result",
          "data": {
            "text/plain": [
              "NodeView(('asia', 'tub', 'smoke', 'lung', 'bronc', 'either', 'xray', 'dysp'))"
            ]
          },
          "metadata": {
            "tags": []
          },
          "execution_count": 4
        }
      ]
    },
    {
      "metadata": {
        "id": "jj_i0zACclzr",
        "colab_type": "text"
      },
      "cell_type": "markdown",
      "source": [
        "#### Edges of the graph is retrieved using edges() method "
      ]
    },
    {
      "metadata": {
        "id": "XBc7mmZ1clzu",
        "colab_type": "code",
        "outputId": "09548b3c-0e1a-4b57-9030-3dccb3acc0e6",
        "colab": {}
      },
      "cell_type": "code",
      "source": [
        "## edges of the asia model\n",
        "asia_model.edges()\n"
      ],
      "execution_count": 0,
      "outputs": [
        {
          "output_type": "execute_result",
          "data": {
            "text/plain": [
              "OutEdgeView([('asia', 'tub'), ('tub', 'either'), ('smoke', 'lung'), ('smoke', 'bronc'), ('lung', 'either'), ('bronc', 'dysp'), ('either', 'xray'), ('either', 'dysp')])"
            ]
          },
          "metadata": {
            "tags": []
          },
          "execution_count": 5
        }
      ]
    },
    {
      "metadata": {
        "id": "uUe9ORp7clz-",
        "colab_type": "text"
      },
      "cell_type": "markdown",
      "source": [
        "#### In Bayesian Networks, the relationship between nodes are specified by CPDs. get_cpds() adds table to BIF model"
      ]
    },
    {
      "metadata": {
        "id": "tfzYf8Mscl0C",
        "colab_type": "code",
        "outputId": "76c5e601-652b-48d1-f663-f0665f04e2ad",
        "colab": {}
      },
      "cell_type": "code",
      "source": [
        "## the cpds of asia model\n",
        "asia_model.get_cpds()"
      ],
      "execution_count": 0,
      "outputs": [
        {
          "output_type": "execute_result",
          "data": {
            "text/plain": [
              "[<TabularCPD representing P(asia:2) at 0x27024009ef0>,\n",
              " <TabularCPD representing P(bronc:2 | smoke:2) at 0x270241152b0>,\n",
              " <TabularCPD representing P(dysp:2 | bronc:2, either:2) at 0x270241151d0>,\n",
              " <TabularCPD representing P(either:2 | lung:2, tub:2) at 0x27024115320>,\n",
              " <TabularCPD representing P(lung:2 | smoke:2) at 0x27026103f60>,\n",
              " <TabularCPD representing P(smoke:2) at 0x27026103f98>,\n",
              " <TabularCPD representing P(tub:2 | asia:2) at 0x27026103cc0>,\n",
              " <TabularCPD representing P(xray:2 | either:2) at 0x27026103be0>]"
            ]
          },
          "metadata": {
            "tags": []
          },
          "execution_count": 6
        }
      ]
    },
    {
      "metadata": {
        "id": "4Y6ZdqsZcl0P",
        "colab_type": "text"
      },
      "cell_type": "markdown",
      "source": [
        "#### The cpds of all nodes are printed by iterating through asia_model.get_cpds()"
      ]
    },
    {
      "metadata": {
        "scrolled": true,
        "id": "9z8h2Sngcl0T",
        "colab_type": "code",
        "outputId": "801cf8c9-cce3-4303-c788-d9ff65c0a9ef",
        "colab": {}
      },
      "cell_type": "code",
      "source": [
        "# Iterate over asia_model.get_cpds()\n",
        "for cpd in asia_model.get_cpds():\n",
        "    print(\"CPD of {variable}:\".format(variable=cpd.variable))\n",
        "    print(cpd)"
      ],
      "execution_count": 0,
      "outputs": [
        {
          "output_type": "stream",
          "text": [
            "CPD of asia:\n",
            "╒════════╤══════╕\n",
            "│ asia_0 │ 0.01 │\n",
            "├────────┼──────┤\n",
            "│ asia_1 │ 0.99 │\n",
            "╘════════╧══════╛\n",
            "CPD of bronc:\n",
            "╒═════════╤═════════╤═════════╕\n",
            "│ smoke   │ smoke_0 │ smoke_1 │\n",
            "├─────────┼─────────┼─────────┤\n",
            "│ bronc_0 │ 0.6     │ 0.3     │\n",
            "├─────────┼─────────┼─────────┤\n",
            "│ bronc_1 │ 0.4     │ 0.7     │\n",
            "╘═════════╧═════════╧═════════╛\n",
            "CPD of dysp:\n",
            "╒════════╤══════════╤══════════╤══════════╤══════════╕\n",
            "│ bronc  │ bronc_0  │ bronc_0  │ bronc_1  │ bronc_1  │\n",
            "├────────┼──────────┼──────────┼──────────┼──────────┤\n",
            "│ either │ either_0 │ either_1 │ either_0 │ either_1 │\n",
            "├────────┼──────────┼──────────┼──────────┼──────────┤\n",
            "│ dysp_0 │ 0.9      │ 0.7      │ 0.8      │ 0.1      │\n",
            "├────────┼──────────┼──────────┼──────────┼──────────┤\n",
            "│ dysp_1 │ 0.1      │ 0.3      │ 0.2      │ 0.9      │\n",
            "╘════════╧══════════╧══════════╧══════════╧══════════╛\n",
            "CPD of either:\n",
            "╒══════════╤════════╤════════╤════════╤════════╕\n",
            "│ lung     │ lung_0 │ lung_0 │ lung_1 │ lung_1 │\n",
            "├──────────┼────────┼────────┼────────┼────────┤\n",
            "│ tub      │ tub_0  │ tub_1  │ tub_0  │ tub_1  │\n",
            "├──────────┼────────┼────────┼────────┼────────┤\n",
            "│ either_0 │ 1.0    │ 1.0    │ 1.0    │ 0.0    │\n",
            "├──────────┼────────┼────────┼────────┼────────┤\n",
            "│ either_1 │ 0.0    │ 0.0    │ 0.0    │ 1.0    │\n",
            "╘══════════╧════════╧════════╧════════╧════════╛\n",
            "CPD of lung:\n",
            "╒════════╤═════════╤═════════╕\n",
            "│ smoke  │ smoke_0 │ smoke_1 │\n",
            "├────────┼─────────┼─────────┤\n",
            "│ lung_0 │ 0.1     │ 0.01    │\n",
            "├────────┼─────────┼─────────┤\n",
            "│ lung_1 │ 0.9     │ 0.99    │\n",
            "╘════════╧═════════╧═════════╛\n",
            "CPD of smoke:\n",
            "╒═════════╤═════╕\n",
            "│ smoke_0 │ 0.5 │\n",
            "├─────────┼─────┤\n",
            "│ smoke_1 │ 0.5 │\n",
            "╘═════════╧═════╛\n",
            "CPD of tub:\n",
            "╒═══════╤════════╤════════╕\n",
            "│ asia  │ asia_0 │ asia_1 │\n",
            "├───────┼────────┼────────┤\n",
            "│ tub_0 │ 0.05   │ 0.01   │\n",
            "├───────┼────────┼────────┤\n",
            "│ tub_1 │ 0.95   │ 0.99   │\n",
            "╘═══════╧════════╧════════╛\n",
            "CPD of xray:\n",
            "╒════════╤══════════╤══════════╕\n",
            "│ either │ either_0 │ either_1 │\n",
            "├────────┼──────────┼──────────┤\n",
            "│ xray_0 │ 0.98     │ 0.05     │\n",
            "├────────┼──────────┼──────────┤\n",
            "│ xray_1 │ 0.02     │ 0.95     │\n",
            "╘════════╧══════════╧══════════╛\n"
          ],
          "name": "stdout"
        }
      ]
    },
    {
      "metadata": {
        "id": "zjkkyNUjcl12",
        "colab_type": "text"
      },
      "cell_type": "markdown",
      "source": [
        "#### Exact inference using Variable Elimination\n"
      ]
    },
    {
      "metadata": {
        "id": "P0csEI_qcl15",
        "colab_type": "code",
        "outputId": "5df21528-0599-4660-d565-ef7d34992202",
        "colab": {}
      },
      "cell_type": "code",
      "source": [
        "# Doing exact inference using Variable Elimination\n",
        "from pgmpy.inference import VariableElimination\n",
        "asia_infer = VariableElimination(asia_model)\n",
        "\n",
        "# Computing the probability of bronc given smoke.\n",
        "a = asia_infer.query(variables=['bronc'], evidence={'smoke': 0})\n",
        "print(a['bronc'])"
      ],
      "execution_count": 0,
      "outputs": [
        {
          "output_type": "stream",
          "text": [
            "╒═════════╤══════════════╕\n",
            "│ bronc   │   phi(bronc) │\n",
            "╞═════════╪══════════════╡\n",
            "│ bronc_0 │       0.6000 │\n",
            "├─────────┼──────────────┤\n",
            "│ bronc_1 │       0.4000 │\n",
            "╘═════════╧══════════════╛\n"
          ],
          "name": "stdout"
        }
      ]
    },
    {
      "metadata": {
        "id": "0AFOSZBfcl2K",
        "colab_type": "text"
      },
      "cell_type": "markdown",
      "source": [
        "#### Deriving inference when evidence is not observed"
      ]
    },
    {
      "metadata": {
        "id": "en2ScOUecl2O",
        "colab_type": "code",
        "outputId": "d9dea166-1e2a-48a3-f61b-86c367432b82",
        "colab": {}
      },
      "cell_type": "code",
      "source": [
        "# Computing the probability of xray when there is no evidence\n",
        "b = asia_infer.query(variables=['xray'], evidence={})\n",
        "print(b['xray'])\n",
        "\n",
        "## Computing the probability of smoke when there is no evidence\n",
        "c = asia_infer.query(variables=['smoke'], evidence={})\n",
        "print(c['smoke'])\n"
      ],
      "execution_count": 0,
      "outputs": [
        {
          "output_type": "stream",
          "text": [
            "╒════════╤═════════════╕\n",
            "│ xray   │   phi(xray) │\n",
            "╞════════╪═════════════╡\n",
            "│ xray_0 │      0.1103 │\n",
            "├────────┼─────────────┤\n",
            "│ xray_1 │      0.8897 │\n",
            "╘════════╧═════════════╛\n",
            "╒═════════╤══════════════╕\n",
            "│ smoke   │   phi(smoke) │\n",
            "╞═════════╪══════════════╡\n",
            "│ smoke_0 │       0.5000 │\n",
            "├─────────┼──────────────┤\n",
            "│ smoke_1 │       0.5000 │\n",
            "╘═════════╧══════════════╛\n"
          ],
          "name": "stdout"
        }
      ]
    },
    {
      "metadata": {
        "id": "WCTD_Rm7cl2e",
        "colab_type": "text"
      },
      "cell_type": "markdown",
      "source": [
        "#### Deriving inference when evidence is observed"
      ]
    },
    {
      "metadata": {
        "id": "UAEtnM0Bcl2h",
        "colab_type": "code",
        "outputId": "8c347dd9-8153-4504-c036-f753af4bc2f6",
        "colab": {}
      },
      "cell_type": "code",
      "source": [
        "## Computing the probability of lung given the probability of observing smoke is zero\n",
        "c = asia_infer.query(variables=[('lung')], evidence={'smoke': 0})\n",
        "print(c['lung'])\n",
        "\n",
        "## Computing the probability of dysp given the probability of observing smoke is zero\n",
        "d = asia_infer.query(variables=['dysp'], evidence={'smoke' : 0})\n",
        "print(d['dysp'])\n"
      ],
      "execution_count": 0,
      "outputs": [
        {
          "output_type": "stream",
          "text": [
            "╒════════╤═════════════╕\n",
            "│ lung   │   phi(lung) │\n",
            "╞════════╪═════════════╡\n",
            "│ lung_0 │      0.1000 │\n",
            "├────────┼─────────────┤\n",
            "│ lung_1 │      0.9000 │\n",
            "╘════════╧═════════════╛\n",
            "╒════════╤═════════════╕\n",
            "│ dysp   │   phi(dysp) │\n",
            "╞════════╪═════════════╡\n",
            "│ dysp_0 │      0.5037 │\n",
            "├────────┼─────────────┤\n",
            "│ dysp_1 │      0.4963 │\n",
            "╘════════╧═════════════╛\n"
          ],
          "name": "stdout"
        }
      ]
    },
    {
      "metadata": {
        "id": "RHYnF0rfcl2u",
        "colab_type": "code",
        "outputId": "7d393ae2-1edd-4f03-884e-f10e5aa362fb",
        "colab": {}
      },
      "cell_type": "code",
      "source": [
        "## Computing the probability of lung given the probability of observing smoke is one\n",
        "e = asia_infer.query(variables=['lung'], evidence={'smoke': 1})\n",
        "print(e['lung'])\n",
        "\n",
        "## Computing the probability of dysp given the probability of observing smoke is one\n",
        "f = asia_infer.query(variables=['dysp'], evidence={'smoke': 1})\n",
        "print(f['dysp'])"
      ],
      "execution_count": 0,
      "outputs": [
        {
          "output_type": "stream",
          "text": [
            "╒════════╤═════════════╕\n",
            "│ lung   │   phi(lung) │\n",
            "╞════════╪═════════════╡\n",
            "│ lung_0 │      0.0100 │\n",
            "├────────┼─────────────┤\n",
            "│ lung_1 │      0.9900 │\n",
            "╘════════╧═════════════╛\n",
            "╒════════╤═════════════╕\n",
            "│ dysp   │   phi(dysp) │\n",
            "╞════════╪═════════════╡\n",
            "│ dysp_0 │      0.2912 │\n",
            "├────────┼─────────────┤\n",
            "│ dysp_1 │      0.7088 │\n",
            "╘════════╧═════════════╛\n"
          ],
          "name": "stdout"
        }
      ]
    }
  ]
}